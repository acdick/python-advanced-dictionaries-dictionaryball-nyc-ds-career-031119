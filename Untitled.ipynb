{
 "cells": [
  {
   "cell_type": "code",
   "execution_count": null,
   "metadata": {},
   "outputs": [],
   "source": [
    "game_dictionary = {}"
   ]
  },
  {
   "cell_type": "code",
   "execution_count": 27,
   "metadata": {},
   "outputs": [],
   "source": [
    "def add_team(is_home_team, team_name, colors):\n",
    "    team = {}\n",
    "    team['team_name'] = team_name\n",
    "    team['colors'] = colors\n",
    "    team['players'] = {}\n",
    "    if is_home_team:\n",
    "        game_dictionary['home'] = team\n",
    "    else:\n",
    "        game_dictionary['away'] = team"
   ]
  },
  {
   "cell_type": "code",
   "execution_count": 28,
   "metadata": {},
   "outputs": [],
   "source": [
    "def add_player(is_home_team, name, number, shoe, points, rebounds, assists, steals, blocks, slam_dunks):\n",
    "    team_key = 'away'\n",
    "    if is_home_team:\n",
    "        team_key = 'home'\n",
    "    \n",
    "    player = {}\n",
    "    player['number'] = number\n",
    "    player['shoe'] = shoe\n",
    "    player['points'] = points\n",
    "    player['rebounds'] = rebounds\n",
    "    player['assists'] = assists\n",
    "    player['steals'] = steals\n",
    "    player['blocks'] = blocks\n",
    "    player['slam_dunks'] = slam_dunks\n",
    "    game_dictionary[team_key]['players'][name] = player"
   ]
  },
  {
   "cell_type": "code",
   "execution_count": 37,
   "metadata": {},
   "outputs": [],
   "source": [
    "def game_dict():\n",
    "    add_team(True, 'Brooklyn Nets', ['Black', 'White'])\n",
    "    add_team(False, 'Charlotte Hornets', ['Turquoise', 'Purple'])\n",
    "    \n",
    "    add_player(True,'Alan Anderson',0,16,22,12,12,3,1,1)\n",
    "    add_player(True,'Reggie Evans',30,14,12,12,12,12,12,7)\n",
    "    add_player(True,'Brook Lopez',11,17,17,19,10,3,1,15)\n",
    "    add_player(True,'Mason Plumlee',1,19,26,12,6,3,8,5)\n",
    "    add_player(True,'Jason Terry',31,15,19,2,2,4,11,1)\n",
    "    \n",
    "    add_player(False,'Jeff Adrien',4,18,10,1,1,2,7,2)\n",
    "    add_player(False,'Bismak Biyombo',0,16,12,4,7,7,15,10)\n",
    "    add_player(False,'DeSagna Diop',2,14,24,12,12,4,5,5)\n",
    "    add_player(False,'Ben Gordon',8,15,33,3,2,1,1,0)\n",
    "    add_player(False,'Brendan Haywood',33,15,6,12,12,22,5,12)\n",
    "    return game_dictionary"
   ]
  },
  {
   "cell_type": "code",
   "execution_count": 39,
   "metadata": {
    "scrolled": false
   },
   "outputs": [
    {
     "data": {
      "text/plain": [
       "{'home': {'team_name': 'Brooklyn Nets',\n",
       "  'colors': ['Black', 'White'],\n",
       "  'players': {'Alan Anderson': {'number': 0,\n",
       "    'shoe': 16,\n",
       "    'points': 22,\n",
       "    'rebounds': 12,\n",
       "    'assists': 12,\n",
       "    'steals': 3,\n",
       "    'blocks': 1,\n",
       "    'slam_dunks': 1},\n",
       "   'Reggie Evans': {'number': 30,\n",
       "    'shoe': 14,\n",
       "    'points': 12,\n",
       "    'rebounds': 12,\n",
       "    'assists': 12,\n",
       "    'steals': 12,\n",
       "    'blocks': 12,\n",
       "    'slam_dunks': 7},\n",
       "   'Brook Lopez': {'number': 11,\n",
       "    'shoe': 17,\n",
       "    'points': 17,\n",
       "    'rebounds': 19,\n",
       "    'assists': 10,\n",
       "    'steals': 3,\n",
       "    'blocks': 1,\n",
       "    'slam_dunks': 15},\n",
       "   'Mason Plumlee': {'number': 1,\n",
       "    'shoe': 19,\n",
       "    'points': 26,\n",
       "    'rebounds': 12,\n",
       "    'assists': 6,\n",
       "    'steals': 3,\n",
       "    'blocks': 8,\n",
       "    'slam_dunks': 5},\n",
       "   'Jason Terry': {'number': 31,\n",
       "    'shoe': 15,\n",
       "    'points': 19,\n",
       "    'rebounds': 2,\n",
       "    'assists': 2,\n",
       "    'steals': 4,\n",
       "    'blocks': 11,\n",
       "    'slam_dunks': 1}}},\n",
       " 'away': {'team_name': 'Charlotte Hornets',\n",
       "  'colors': ['Turquoise', 'Purple'],\n",
       "  'players': {'Jeff Adrien': {'number': 4,\n",
       "    'shoe': 18,\n",
       "    'points': 10,\n",
       "    'rebounds': 1,\n",
       "    'assists': 1,\n",
       "    'steals': 2,\n",
       "    'blocks': 7,\n",
       "    'slam_dunks': 2},\n",
       "   'Bismak Biyombo': {'number': 0,\n",
       "    'shoe': 16,\n",
       "    'points': 12,\n",
       "    'rebounds': 4,\n",
       "    'assists': 7,\n",
       "    'steals': 7,\n",
       "    'blocks': 15,\n",
       "    'slam_dunks': 10},\n",
       "   'DeSagna Diop': {'number': 2,\n",
       "    'shoe': 14,\n",
       "    'points': 24,\n",
       "    'rebounds': 12,\n",
       "    'assists': 12,\n",
       "    'steals': 4,\n",
       "    'blocks': 5,\n",
       "    'slam_dunks': 5},\n",
       "   'Ben Gordon': {'number': 8,\n",
       "    'shoe': 15,\n",
       "    'points': 33,\n",
       "    'rebounds': 3,\n",
       "    'assists': 2,\n",
       "    'steals': 1,\n",
       "    'blocks': 1,\n",
       "    'slam_dunks': 0},\n",
       "   'Brendan Haywood': {'number': 33,\n",
       "    'shoe': 15,\n",
       "    'points': 6,\n",
       "    'rebounds': 12,\n",
       "    'assists': 12,\n",
       "    'steals': 22,\n",
       "    'blocks': 5,\n",
       "    'slam_dunks': 12}}}}"
      ]
     },
     "execution_count": 39,
     "metadata": {},
     "output_type": "execute_result"
    }
   ],
   "source": [
    "game_dict()"
   ]
  },
  {
   "cell_type": "code",
   "execution_count": null,
   "metadata": {},
   "outputs": [],
   "source": [
    "def num_points_scored(player_name):\n",
    "    if player_name in game_dictionary['home']['players'].keys():\n",
    "        print('hello')\n",
    "    else:\n",
    "        print('h2')"
   ]
  },
  {
   "cell_type": "code",
   "execution_count": null,
   "metadata": {},
   "outputs": [],
   "source": [
    "num_points_scored('Brendan Haywood')"
   ]
  },
  {
   "cell_type": "code",
   "execution_count": null,
   "metadata": {},
   "outputs": [],
   "source": []
  }
 ],
 "metadata": {
  "kernelspec": {
   "display_name": "Python 3",
   "language": "python",
   "name": "python3"
  },
  "language_info": {
   "codemirror_mode": {
    "name": "ipython",
    "version": 3
   },
   "file_extension": ".py",
   "mimetype": "text/x-python",
   "name": "python",
   "nbconvert_exporter": "python",
   "pygments_lexer": "ipython3",
   "version": "3.7.1"
  }
 },
 "nbformat": 4,
 "nbformat_minor": 2
}
