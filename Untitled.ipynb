{
 "cells": [
  {
   "cell_type": "code",
   "execution_count": 3,
   "metadata": {},
   "outputs": [],
   "source": [
    "game_dictionary = {}\n",
    "\n",
    "def add_team(is_home_team, team_name, colors):\n",
    "    team = {}\n",
    "    team['team_name'] = team_name\n",
    "    team['colors'] = colors\n",
    "    team['players'] = {}\n",
    "    if is_home_team:\n",
    "        game_dictionary['home'] = team\n",
    "    else:\n",
    "        game_dictionary['away'] = team\n",
    "        \n",
    "def add_player(is_home_team, name, number, shoe, points, rebounds, assists, steals, blocks, slam_dunks):\n",
    "    team_key = 'away'\n",
    "    if is_home_team:\n",
    "        team_key = 'home'\n",
    "    \n",
    "    player = {}\n",
    "    player['number'] = number\n",
    "    player['shoe'] = shoe\n",
    "    player['points'] = points\n",
    "    player['rebounds'] = rebounds\n",
    "    player['assists'] = assists\n",
    "    player['steals'] = steals\n",
    "    player['blocks'] = blocks\n",
    "    player['slam_dunks'] = slam_dunks\n",
    "    game_dictionary[team_key]['players'][name] = player\n",
    "    \n",
    "def game_dict():\n",
    "    add_team(True, 'Brooklyn Nets', ['Black', 'White'])\n",
    "    add_team(False, 'Charlotte Hornets', ['Turquoise', 'Purple'])\n",
    "    \n",
    "    add_player(True,'Alan Anderson',0,16,22,12,12,3,1,1)\n",
    "    add_player(True,'Reggie Evans',30,14,12,12,12,12,12,7)\n",
    "    add_player(True,'Brook Lopez',11,17,17,19,10,3,1,15)\n",
    "    add_player(True,'Mason Plumlee',1,19,26,12,6,3,8,5)\n",
    "    add_player(True,'Jason Terry',31,15,19,2,2,4,11,1)\n",
    "    \n",
    "    add_player(False,'Jeff Adrien',4,18,10,1,1,2,7,2)\n",
    "    add_player(False,'Bismak Biyombo',0,16,12,4,7,7,15,10)\n",
    "    add_player(False,'DeSagna Diop',2,14,24,12,12,4,5,5)\n",
    "    add_player(False,'Ben Gordon',8,15,33,3,2,1,1,0)\n",
    "    add_player(False,'Brendan Haywood',33,15,6,12,12,22,5,12)\n",
    "    return game_dictionary"
   ]
  },
  {
   "cell_type": "code",
   "execution_count": 4,
   "metadata": {
    "scrolled": false
   },
   "outputs": [
    {
     "data": {
      "text/plain": [
       "{'home': {'team_name': 'Brooklyn Nets',\n",
       "  'colors': ['Black', 'White'],\n",
       "  'players': {'Alan Anderson': {'number': 0,\n",
       "    'shoe': 16,\n",
       "    'points': 22,\n",
       "    'rebounds': 12,\n",
       "    'assists': 12,\n",
       "    'steals': 3,\n",
       "    'blocks': 1,\n",
       "    'slam_dunks': 1},\n",
       "   'Reggie Evans': {'number': 30,\n",
       "    'shoe': 14,\n",
       "    'points': 12,\n",
       "    'rebounds': 12,\n",
       "    'assists': 12,\n",
       "    'steals': 12,\n",
       "    'blocks': 12,\n",
       "    'slam_dunks': 7},\n",
       "   'Brook Lopez': {'number': 11,\n",
       "    'shoe': 17,\n",
       "    'points': 17,\n",
       "    'rebounds': 19,\n",
       "    'assists': 10,\n",
       "    'steals': 3,\n",
       "    'blocks': 1,\n",
       "    'slam_dunks': 15},\n",
       "   'Mason Plumlee': {'number': 1,\n",
       "    'shoe': 19,\n",
       "    'points': 26,\n",
       "    'rebounds': 12,\n",
       "    'assists': 6,\n",
       "    'steals': 3,\n",
       "    'blocks': 8,\n",
       "    'slam_dunks': 5},\n",
       "   'Jason Terry': {'number': 31,\n",
       "    'shoe': 15,\n",
       "    'points': 19,\n",
       "    'rebounds': 2,\n",
       "    'assists': 2,\n",
       "    'steals': 4,\n",
       "    'blocks': 11,\n",
       "    'slam_dunks': 1}}},\n",
       " 'away': {'team_name': 'Charlotte Hornets',\n",
       "  'colors': ['Turquoise', 'Purple'],\n",
       "  'players': {'Jeff Adrien': {'number': 4,\n",
       "    'shoe': 18,\n",
       "    'points': 10,\n",
       "    'rebounds': 1,\n",
       "    'assists': 1,\n",
       "    'steals': 2,\n",
       "    'blocks': 7,\n",
       "    'slam_dunks': 2},\n",
       "   'Bismak Biyombo': {'number': 0,\n",
       "    'shoe': 16,\n",
       "    'points': 12,\n",
       "    'rebounds': 4,\n",
       "    'assists': 7,\n",
       "    'steals': 7,\n",
       "    'blocks': 15,\n",
       "    'slam_dunks': 10},\n",
       "   'DeSagna Diop': {'number': 2,\n",
       "    'shoe': 14,\n",
       "    'points': 24,\n",
       "    'rebounds': 12,\n",
       "    'assists': 12,\n",
       "    'steals': 4,\n",
       "    'blocks': 5,\n",
       "    'slam_dunks': 5},\n",
       "   'Ben Gordon': {'number': 8,\n",
       "    'shoe': 15,\n",
       "    'points': 33,\n",
       "    'rebounds': 3,\n",
       "    'assists': 2,\n",
       "    'steals': 1,\n",
       "    'blocks': 1,\n",
       "    'slam_dunks': 0},\n",
       "   'Brendan Haywood': {'number': 33,\n",
       "    'shoe': 15,\n",
       "    'points': 6,\n",
       "    'rebounds': 12,\n",
       "    'assists': 12,\n",
       "    'steals': 22,\n",
       "    'blocks': 5,\n",
       "    'slam_dunks': 12}}}}"
      ]
     },
     "execution_count": 4,
     "metadata": {},
     "output_type": "execute_result"
    }
   ],
   "source": [
    "game_dictionary = game_dict()\n",
    "game_dictionary"
   ]
  },
  {
   "cell_type": "code",
   "execution_count": 5,
   "metadata": {},
   "outputs": [],
   "source": [
    "def player_stat(player_name, stat):\n",
    "    points = None\n",
    "    \n",
    "    if player_name in game_dictionary['home']['players'].keys():\n",
    "        points = game_dictionary['home']['players'][player_name][stat]\n",
    "    elif player_name in game_dictionary['away']['players'].keys():\n",
    "        points = game_dictionary['away']['players'][player_name][stat]\n",
    "        \n",
    "    return points\n",
    "\n",
    "def num_points_scored(player_name):\n",
    "    return player_stat(player_name, 'points')\n",
    "\n",
    "def shoe_size(player_name):\n",
    "    return player_stat(player_name, 'shoe')"
   ]
  },
  {
   "cell_type": "code",
   "execution_count": 6,
   "metadata": {
    "scrolled": false
   },
   "outputs": [
    {
     "data": {
      "text/plain": [
       "17"
      ]
     },
     "execution_count": 6,
     "metadata": {},
     "output_type": "execute_result"
    }
   ],
   "source": [
    "num_points_scored('Brook Lopez')"
   ]
  },
  {
   "cell_type": "code",
   "execution_count": 7,
   "metadata": {},
   "outputs": [
    {
     "data": {
      "text/plain": [
       "15"
      ]
     },
     "execution_count": 7,
     "metadata": {},
     "output_type": "execute_result"
    }
   ],
   "source": [
    "shoe_size('Ben Gordon')"
   ]
  },
  {
   "cell_type": "code",
   "execution_count": 8,
   "metadata": {},
   "outputs": [],
   "source": [
    "def team_colors(team_name):\n",
    "    team_colors = None\n",
    "    \n",
    "    if team_name == game_dictionary['home']['team_name']:\n",
    "        team_colors = game_dictionary['home']['colors']\n",
    "    elif team_name == game_dictionary['away']['team_name']:\n",
    "        team_colors = game_dictionary['away']['colors']\n",
    "    \n",
    "    return team_colors"
   ]
  },
  {
   "cell_type": "code",
   "execution_count": 9,
   "metadata": {},
   "outputs": [
    {
     "data": {
      "text/plain": [
       "['Black', 'White']"
      ]
     },
     "execution_count": 9,
     "metadata": {},
     "output_type": "execute_result"
    }
   ],
   "source": [
    "team_colors('Brooklyn Nets')"
   ]
  },
  {
   "cell_type": "code",
   "execution_count": 10,
   "metadata": {},
   "outputs": [],
   "source": [
    "def team_names():\n",
    "    names = []\n",
    "    \n",
    "    for team in game_dictionary.keys():\n",
    "        names.append(game_dictionary[team]['team_name'])\n",
    "        \n",
    "    return names"
   ]
  },
  {
   "cell_type": "code",
   "execution_count": 11,
   "metadata": {},
   "outputs": [
    {
     "data": {
      "text/plain": [
       "['Brooklyn Nets', 'Charlotte Hornets']"
      ]
     },
     "execution_count": 11,
     "metadata": {},
     "output_type": "execute_result"
    }
   ],
   "source": [
    "team_names()"
   ]
  },
  {
   "cell_type": "code",
   "execution_count": 12,
   "metadata": {},
   "outputs": [],
   "source": [
    "def player_numbers(team_name):\n",
    "    numbers = []\n",
    "    \n",
    "    if team_name == game_dictionary['home']['team_name']:\n",
    "        players = game_dictionary['home']['players']\n",
    "    elif team_name == game_dictionary['away']['team_name']:\n",
    "        players = game_dictionary['away']['players']\n",
    "        \n",
    "    for player_stat in players.values():\n",
    "        numbers.append(player_stat['number'])\n",
    "        \n",
    "    return numbers"
   ]
  },
  {
   "cell_type": "code",
   "execution_count": 13,
   "metadata": {},
   "outputs": [
    {
     "data": {
      "text/plain": [
       "[4, 0, 2, 8, 33]"
      ]
     },
     "execution_count": 13,
     "metadata": {},
     "output_type": "execute_result"
    }
   ],
   "source": [
    "player_numbers('Charlotte Hornets')"
   ]
  },
  {
   "cell_type": "code",
   "execution_count": 14,
   "metadata": {},
   "outputs": [],
   "source": [
    "def player_stats(player_name):\n",
    "    stats = None\n",
    "\n",
    "    if player_name in game_dictionary['home']['players'].keys():\n",
    "        stats = game_dictionary['home']['players'][player_name]\n",
    "    elif player_name in game_dictionary['away']['players'].keys():\n",
    "        stats = game_dictionary['away']['players'][player_name]\n",
    "\n",
    "    return stats"
   ]
  },
  {
   "cell_type": "code",
   "execution_count": 15,
   "metadata": {},
   "outputs": [
    {
     "data": {
      "text/plain": [
       "{'number': 4,\n",
       " 'shoe': 18,\n",
       " 'points': 10,\n",
       " 'rebounds': 1,\n",
       " 'assists': 1,\n",
       " 'steals': 2,\n",
       " 'blocks': 7,\n",
       " 'slam_dunks': 2}"
      ]
     },
     "execution_count": 15,
     "metadata": {},
     "output_type": "execute_result"
    }
   ],
   "source": [
    "player_stats('Jeff Adrien')"
   ]
  },
  {
   "cell_type": "code",
   "execution_count": 16,
   "metadata": {},
   "outputs": [],
   "source": [
    "def big_shoe_rebounds():\n",
    "    big_shoe = 0\n",
    "    big_shoe_player = None\n",
    "\n",
    "    for team in game_dictionary.keys():\n",
    "        for player in game_dictionary[team]['players']:\n",
    "            if game_dictionary[team]['players'][player]['shoe'] > big_shoe:\n",
    "                big_shoe = game_dictionary[team]['players'][player]['shoe']\n",
    "                big_shoe_player = player\n",
    "\n",
    "    return big_shoe_player"
   ]
  },
  {
   "cell_type": "code",
   "execution_count": 17,
   "metadata": {},
   "outputs": [
    {
     "data": {
      "text/plain": [
       "'Mason Plumlee'"
      ]
     },
     "execution_count": 17,
     "metadata": {},
     "output_type": "execute_result"
    }
   ],
   "source": [
    "big_shoe_rebounds()"
   ]
  },
  {
   "cell_type": "code",
   "execution_count": 18,
   "metadata": {},
   "outputs": [],
   "source": [
    "def most_points_scored():\n",
    "    most_points = 0\n",
    "    most_points_player = None\n",
    "\n",
    "    for team in game_dictionary.keys():\n",
    "        for player in game_dictionary[team]['players']:\n",
    "            if game_dictionary[team]['players'][player]['points'] > most_points:\n",
    "                most_points = game_dictionary[team]['players'][player]['points']\n",
    "                most_points_player = player\n",
    "\n",
    "    return most_points_player"
   ]
  },
  {
   "cell_type": "code",
   "execution_count": 19,
   "metadata": {},
   "outputs": [
    {
     "data": {
      "text/plain": [
       "'Ben Gordon'"
      ]
     },
     "execution_count": 19,
     "metadata": {},
     "output_type": "execute_result"
    }
   ],
   "source": [
    "most_points_scored()"
   ]
  },
  {
   "cell_type": "code",
   "execution_count": 20,
   "metadata": {},
   "outputs": [],
   "source": [
    "def winning_team():\n",
    "    most_points = 0\n",
    "    team_points = 0\n",
    "    most_points_team = None\n",
    "\n",
    "    for team in game_dictionary.keys():\n",
    "        team_points = 0\n",
    "        for player in game_dictionary[team]['players']:\n",
    "            team_points += game_dictionary[team]['players'][player]['points']\n",
    "        if team_points > most_points:\n",
    "            most_points = team_points\n",
    "            most_points_team = game_dictionary[team]['team_name']\n",
    "\n",
    "    return most_points_team"
   ]
  },
  {
   "cell_type": "code",
   "execution_count": 21,
   "metadata": {},
   "outputs": [
    {
     "data": {
      "text/plain": [
       "'Brooklyn Nets'"
      ]
     },
     "execution_count": 21,
     "metadata": {},
     "output_type": "execute_result"
    }
   ],
   "source": [
    "winning_team()"
   ]
  },
  {
   "cell_type": "code",
   "execution_count": 22,
   "metadata": {},
   "outputs": [],
   "source": [
    "def longest_name():\n",
    "    longest_name = ''\n",
    "\n",
    "    for team in game_dictionary.keys():\n",
    "        for player in game_dictionary[team]['players'].keys():\n",
    "            if len(player) > len(longest_name):\n",
    "                longest_name = player\n",
    "\n",
    "    return longest_name"
   ]
  },
  {
   "cell_type": "code",
   "execution_count": 23,
   "metadata": {},
   "outputs": [
    {
     "data": {
      "text/plain": [
       "'Brendan Haywood'"
      ]
     },
     "execution_count": 23,
     "metadata": {},
     "output_type": "execute_result"
    }
   ],
   "source": [
    "longest_name()"
   ]
  },
  {
   "cell_type": "code",
   "execution_count": 24,
   "metadata": {},
   "outputs": [],
   "source": [
    "def long_name_steals_a_ton():\n",
    "    most_steals = 0\n",
    "    most_steals_player = None\n",
    "    steals_a_ton = False\n",
    "\n",
    "    for team in game_dictionary.keys():\n",
    "        for player in game_dictionary[team]['players']:\n",
    "            if game_dictionary[team]['players'][player]['steals'] > most_steals:\n",
    "                most_steals = game_dictionary[team]['players'][player]['steals']\n",
    "                most_steals_player = player\n",
    "\n",
    "    if most_steals_player == longest_name():\n",
    "        steals_a_ton = True\n",
    "        \n",
    "    return steals_a_ton"
   ]
  },
  {
   "cell_type": "code",
   "execution_count": 25,
   "metadata": {},
   "outputs": [
    {
     "data": {
      "text/plain": [
       "True"
      ]
     },
     "execution_count": 25,
     "metadata": {},
     "output_type": "execute_result"
    }
   ],
   "source": [
    "long_name_steals_a_ton()"
   ]
  },
  {
   "cell_type": "code",
   "execution_count": 28,
   "metadata": {},
   "outputs": [],
   "source": [
    "#write a function that let's you input a team and a stat and it returns the player with the highest number\n",
    "\n",
    "#define function name and arguments\n",
    "def highest_team_stat(team_name, stat):\n",
    "    stats = None\n",
    "\n",
    "#find the stats of requested team\n",
    "    if player_name in game_dictionary['home']['players'].keys():\n",
    "        stats = game_dictionary['home']['players'][player_name]\n",
    "    elif player_name in game_dictionary['away']['players'].keys():\n",
    "        stats = game_dictionary['away']['players'][player_name]\n",
    "\n",
    "#search through all players in team and compare number\n",
    "\n",
    "#return player with highest number on team\n",
    "    return stats"
   ]
  },
  {
   "cell_type": "code",
   "execution_count": 29,
   "metadata": {},
   "outputs": [
    {
     "ename": "NameError",
     "evalue": "name 'player_name' is not defined",
     "output_type": "error",
     "traceback": [
      "\u001b[0;31m---------------------------------------------------------------------------\u001b[0m",
      "\u001b[0;31mNameError\u001b[0m                                 Traceback (most recent call last)",
      "\u001b[0;32m<ipython-input-29-b4f017a031e5>\u001b[0m in \u001b[0;36m<module>\u001b[0;34m\u001b[0m\n\u001b[0;32m----> 1\u001b[0;31m \u001b[0mhighest_team_stat\u001b[0m\u001b[0;34m(\u001b[0m\u001b[0;34m'Brooklyn Nets'\u001b[0m\u001b[0;34m,\u001b[0m \u001b[0;34m'shoe'\u001b[0m\u001b[0;34m)\u001b[0m\u001b[0;34m\u001b[0m\u001b[0;34m\u001b[0m\u001b[0m\n\u001b[0m",
      "\u001b[0;32m<ipython-input-28-d4ad0603a37c>\u001b[0m in \u001b[0;36mhighest_team_stat\u001b[0;34m(team_name, stat)\u001b[0m\n\u001b[1;32m      7\u001b[0m     \u001b[0mstats\u001b[0m \u001b[0;34m=\u001b[0m \u001b[0;32mNone\u001b[0m\u001b[0;34m\u001b[0m\u001b[0;34m\u001b[0m\u001b[0m\n\u001b[1;32m      8\u001b[0m \u001b[0;34m\u001b[0m\u001b[0m\n\u001b[0;32m----> 9\u001b[0;31m     \u001b[0;32mif\u001b[0m \u001b[0mplayer_name\u001b[0m \u001b[0;32min\u001b[0m \u001b[0mgame_dictionary\u001b[0m\u001b[0;34m[\u001b[0m\u001b[0;34m'home'\u001b[0m\u001b[0;34m]\u001b[0m\u001b[0;34m[\u001b[0m\u001b[0;34m'players'\u001b[0m\u001b[0;34m]\u001b[0m\u001b[0;34m.\u001b[0m\u001b[0mkeys\u001b[0m\u001b[0;34m(\u001b[0m\u001b[0;34m)\u001b[0m\u001b[0;34m:\u001b[0m\u001b[0;34m\u001b[0m\u001b[0;34m\u001b[0m\u001b[0m\n\u001b[0m\u001b[1;32m     10\u001b[0m         \u001b[0mstats\u001b[0m \u001b[0;34m=\u001b[0m \u001b[0mgame_dictionary\u001b[0m\u001b[0;34m[\u001b[0m\u001b[0;34m'home'\u001b[0m\u001b[0;34m]\u001b[0m\u001b[0;34m[\u001b[0m\u001b[0;34m'players'\u001b[0m\u001b[0;34m]\u001b[0m\u001b[0;34m[\u001b[0m\u001b[0mplayer_name\u001b[0m\u001b[0;34m]\u001b[0m\u001b[0;34m\u001b[0m\u001b[0;34m\u001b[0m\u001b[0m\n\u001b[1;32m     11\u001b[0m     \u001b[0;32melif\u001b[0m \u001b[0mplayer_name\u001b[0m \u001b[0;32min\u001b[0m \u001b[0mgame_dictionary\u001b[0m\u001b[0;34m[\u001b[0m\u001b[0;34m'away'\u001b[0m\u001b[0;34m]\u001b[0m\u001b[0;34m[\u001b[0m\u001b[0;34m'players'\u001b[0m\u001b[0;34m]\u001b[0m\u001b[0;34m.\u001b[0m\u001b[0mkeys\u001b[0m\u001b[0;34m(\u001b[0m\u001b[0;34m)\u001b[0m\u001b[0;34m:\u001b[0m\u001b[0;34m\u001b[0m\u001b[0;34m\u001b[0m\u001b[0m\n",
      "\u001b[0;31mNameError\u001b[0m: name 'player_name' is not defined"
     ]
    }
   ],
   "source": [
    "highest_team_stat('Brooklyn Nets', 'shoe')"
   ]
  },
  {
   "cell_type": "code",
   "execution_count": null,
   "metadata": {},
   "outputs": [],
   "source": []
  }
 ],
 "metadata": {
  "kernelspec": {
   "display_name": "Python 3",
   "language": "python",
   "name": "python3"
  },
  "language_info": {
   "codemirror_mode": {
    "name": "ipython",
    "version": 3
   },
   "file_extension": ".py",
   "mimetype": "text/x-python",
   "name": "python",
   "nbconvert_exporter": "python",
   "pygments_lexer": "ipython3",
   "version": "3.7.1"
  }
 },
 "nbformat": 4,
 "nbformat_minor": 2
}
